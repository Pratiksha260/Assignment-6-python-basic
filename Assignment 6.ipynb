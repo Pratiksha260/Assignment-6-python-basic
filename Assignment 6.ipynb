{
 "cells": [
  {
   "cell_type": "markdown",
   "id": "7d1df662-fd76-444a-8b08-85f199bfee58",
   "metadata": {},
   "source": [
    "Q.1. What are keywords in python? Using the keyword library, print all the python keywords.\n",
    "\n",
    "ANS:Keywords in Python are reserved words that can not be used as a variable name, function name, or any other identifier."
   ]
  },
  {
   "cell_type": "code",
   "execution_count": 10,
   "id": "68d2b98b-2c0e-4581-8d4b-759d9e193807",
   "metadata": {},
   "outputs": [
    {
     "name": "stdout",
     "output_type": "stream",
     "text": [
      "The list of keyword is: \n",
      "['False', 'None', 'True', 'and', 'as', 'assert', 'async', 'await', 'break', 'class', 'continue', 'def', 'del', 'elif', 'else', 'except', 'finally', 'for', 'from', 'global', 'if', 'import', 'in', 'is', 'lambda', 'nonlocal', 'not', 'or', 'pass', 'raise', 'return', 'try', 'while', 'with', 'yield']\n"
     ]
    }
   ],
   "source": [
    "import keyword\n",
    "print(\"The list of keyword is: \")\n",
    "print(keyword.kwlist)"
   ]
  },
  {
   "cell_type": "markdown",
   "id": "9a2128df-9099-40d5-8ed8-b88cb709bfdf",
   "metadata": {},
   "source": [
    "Q.2. What are the rules to create variables in python?\n",
    "\n",
    "ANS:Rules for Python variables:\n",
    "\n",
    "A variable name must start with a letter or the underscore character\n",
    "\n",
    "A variable name cannot start with a number\n",
    "\n",
    "A variable name can only contain alpha-numeric characters and underscores (A-z, 0-9, and _ )\n",
    "\n",
    "Variable names are case-sensitive (age, Age and AGE are three different variables)\n",
    "\n",
    "FOR EXAMPLE:#Legal variable names:\n",
    "myvar = \"John\"\n",
    "my_var = \"John\"\n",
    "_my_var = \"John\"\n",
    "myVar = \"John\"\n",
    "MYVAR = \"John\"\n",
    "myvar2 = \"John\"\n",
    "\n",
    "#Illegal variable names:\n",
    "2myvar = \"John\"\n",
    "my-var = \"John\"\n",
    "my var = \"John\""
   ]
  },
  {
   "cell_type": "markdown",
   "id": "ec702e0c-e9be-425a-92f0-9717d870c16c",
   "metadata": {},
   "source": [
    "Q.3. What are the standards and conventions followed for the nomenclature of variables in\n",
    "python to improve code readability and maintainability?\n",
    "\n",
    "ANS: Python has a set of guidelines established, that sets the standard for how we name variables, functions,classes, modules, and other identifiers.Here are some of the conventions followed for the nomenclature of variables in python to improve code readability and maintainability.\n",
    "\n",
    "A variable name must start with a letter or the underscore character\n",
    "\n",
    "A variable name cannot start with a number\n",
    "\n",
    "A variable name can only contain alpha-numeric characters and underscores (A-z, 0-9, and _ )\n",
    "\n",
    "Variable names are case-sensitive (age, Age and AGE are three different variables)\n",
    "\n",
    "Variable names follow the snake_case naming convention. This means that all words in the name are in lowercase, and each word is separated by an underscore \n",
    "These conventions help improve code readability and maintainability by making it easier to understand what each variable represents. \n",
    "\n"
   ]
  },
  {
   "cell_type": "markdown",
   "id": "17992ed6-1445-4748-82f9-3c8ae7f8a2b6",
   "metadata": {},
   "source": [
    "Q.4. What will happen if a keyword is used as a variable name?\n",
    "\n",
    "ANS:If we use a keyword as a variable name, it will result in a syntax error. Keywords are reserved words that have predefined meanings in programming languages. They cannot be used as variable names because it would cause confusion and make the code difficult to read and understand."
   ]
  },
  {
   "cell_type": "markdown",
   "id": "2e0359f2-de85-40ac-bb8e-63bc9a7de37e",
   "metadata": {},
   "source": [
    "Q.5. For what purpose def keyword is used?\n",
    "\n",
    "ANS:The “ def ” keyword is a statement for defining a function in Python."
   ]
  },
  {
   "cell_type": "markdown",
   "id": "0da6bd2b-3b99-4832-b51b-5e2fcb840f16",
   "metadata": {},
   "source": [
    "Q.6. What is the operation of this special character ‘\\’?\n",
    "\n",
    "ANS: In pyhton, the backslash is the special type od character that can be used for two purposes:\n",
    "\n",
    "1.To escape other special characters in a string.\n",
    "\n",
    "2.To be part of a special sequence such as the tab character (\\t) or the newline character (\\n).\n",
    "\n"
   ]
  },
  {
   "cell_type": "code",
   "execution_count": 11,
   "id": "a2312a11-0bef-4cc6-885b-2a1ed803887b",
   "metadata": {},
   "outputs": [
    {
     "name": "stdout",
     "output_type": "stream",
     "text": [
      "Hello,\n",
      " World\n"
     ]
    }
   ],
   "source": [
    "# example of backslash:\n",
    "\n",
    "print('Hello,\\n World')"
   ]
  },
  {
   "cell_type": "code",
   "execution_count": 12,
   "id": "7f6bdbed-ab26-492d-8458-39d7b36b5507",
   "metadata": {},
   "outputs": [
    {
     "name": "stdout",
     "output_type": "stream",
     "text": [
      "\"Python's awesome\" She said\n"
     ]
    }
   ],
   "source": [
    "s = '\"Python\\'s awesome\" She said'\n",
    "print(s)"
   ]
  },
  {
   "cell_type": "markdown",
   "id": "b7f15048-dfd6-41e9-a3fc-b9e17d3d972c",
   "metadata": {},
   "source": [
    "Q.7. Give an example of the following conditions:\n",
    "(i) Homogeneous list\n",
    "(ii) Heterogeneous set\n",
    "(iii) Homogeneous tuple\n",
    "\n",
    "\n",
    "ANS:(i) Homogeneous list: A list that contains elements of the same data type is called a homogeneous list. For example, a list of integers [1, 2, 3, 4] is a homogeneous list because all the elements are integers.\n",
    "\n",
    "(ii) Heterogeneous set: A set that contains elements of different data types is called a heterogeneous set. For example, a set containing an integer, a string and a float {1, “hello”, 3.14} is a heterogeneous set because the elements are of different data types \n",
    "\n",
    "(iii) Homogeneous tuple: A tuple that contains elements of the same data type is called a homogeneous tuple. For example, a tuple of integers (1, 2, 3, 4) is a homogeneous tuple because all the elements are integers "
   ]
  },
  {
   "cell_type": "markdown",
   "id": "684fcfb2-a56f-4c4f-882f-beac29129d92",
   "metadata": {},
   "source": [
    "Q.8. Explain the mutable and immutable data types with proper explanation & examples.\n",
    "\n",
    "ANS:The basic explanation is thus: A mutable object is one whose internal state is changeable. On the contrary, once an immutable object in Python has been created, we cannot change it in any way.\n",
    "\n",
    "Anything is said to be mutable when anything can be modified or changed. The term \"mutable\" in Python refers to an object's capacity to modify its values. These are frequently the things that hold a data collection.\n",
    "\n",
    "Immutable refers to a state in which no change can occur over time. A Python object is referred to as immutable if we cannot change its value over time. The value of these Python objects is fixed once they are made.\n",
    "\n",
    "Python mutable data types:\n",
    "Lists\n",
    "\n",
    "Dictionaries\n",
    "\n",
    "Sets\n",
    "\n",
    "Python immutable data types:\n",
    "Numbers (Integer, Float, Complex, Decimal, Rational & Booleans),\n",
    "Tuples,\n",
    "Strings.\n",
    "\n"
   ]
  },
  {
   "cell_type": "code",
   "execution_count": 13,
   "id": "306aae28-9319-4707-a9ff-9d706c774b83",
   "metadata": {},
   "outputs": [
    {
     "name": "stdout",
     "output_type": "stream",
     "text": [
      "the original set: {1, 2, 3}\n",
      "the updated set: {1, 2, 3, 'a', 'b', 'c'}\n"
     ]
    }
   ],
   "source": [
    "#EXAMPLE OF MUTABLE DATA TYPE:\n",
    " \n",
    "set1 = {1,2,3}\n",
    "print(\"the original set:\",set1)\n",
    "    \n",
    "update_set = {'a', 'b', 'c'}\n",
    "set1.update(update_set)\n",
    "print(\"the updated set:\",set1)"
   ]
  },
  {
   "cell_type": "code",
   "execution_count": 14,
   "id": "82372c37-4295-4725-8b8c-f754aa6fe224",
   "metadata": {},
   "outputs": [
    {
     "name": "stdout",
     "output_type": "stream",
     "text": [
      "(2, 3, 4, 5)\n",
      "X\n"
     ]
    }
   ],
   "source": [
    "#EXAMPLE OF IMMUTABLE DATA TYPE:\n",
    "tuple = (2, 3, 4, 5)\n",
    "print(tuple)\n",
    "tuple = 'X'  \n",
    "print(tuple)\n"
   ]
  },
  {
   "cell_type": "raw",
   "id": "0f8d631b-40c2-4e13-9cab-389729c8ed4a",
   "metadata": {},
   "source": [
    "Q.9. Write a code to create the given structure using only for loop.\n",
    "*\n",
    "***\n",
    "*****\n",
    "*******\n",
    "*********"
   ]
  },
  {
   "cell_type": "code",
   "execution_count": 17,
   "id": "e7d34be6-d468-4ca2-8714-617d42458637",
   "metadata": {},
   "outputs": [
    {
     "name": "stdin",
     "output_type": "stream",
     "text": [
      "enter the number of rows: 5\n"
     ]
    },
    {
     "name": "stdout",
     "output_type": "stream",
     "text": [
      "    *\n",
      "   ***\n",
      "  *****\n",
      " *******\n",
      "*********\n"
     ]
    }
   ],
   "source": [
    "n = int(input(\"enter the number of rows:\"))\n",
    "for i in range(n):\n",
    "    for j in range(n-i-1):\n",
    "        print(\" \",end=\"\")\n",
    "    for j in range(2*i+1):\n",
    "        print(\"*\",end=\"\")\n",
    "    print()\n",
    "    "
   ]
  },
  {
   "cell_type": "raw",
   "id": "38c13b25-1b9c-4e9e-b6dd-d234b8087ec5",
   "metadata": {},
   "source": [
    "Q.10. Write a code to create the given structure using while loop.\n",
    "|||||||||\n",
    "|||||||\n",
    "|||||\n",
    "|||\n",
    "|"
   ]
  },
  {
   "cell_type": "code",
   "execution_count": 18,
   "id": "ca0eb86f-a10b-4567-acff-4fda2caf19c3",
   "metadata": {},
   "outputs": [
    {
     "name": "stdout",
     "output_type": "stream",
     "text": [
      "|||||||||\n",
      "|||||||\n",
      "|||||\n",
      "|||\n",
      "|\n"
     ]
    }
   ],
   "source": [
    "n=9\n",
    "kk=5\n",
    "while kk>=1:\n",
    "    print(\"|\"*n)\n",
    "    n-=2\n",
    "    kk-=1"
   ]
  },
  {
   "cell_type": "code",
   "execution_count": null,
   "id": "b302653f-ee4e-4d8f-bbd8-278f5c3858b3",
   "metadata": {},
   "outputs": [],
   "source": []
  }
 ],
 "metadata": {
  "kernelspec": {
   "display_name": "Python 3 (ipykernel)",
   "language": "python",
   "name": "python3"
  },
  "language_info": {
   "codemirror_mode": {
    "name": "ipython",
    "version": 3
   },
   "file_extension": ".py",
   "mimetype": "text/x-python",
   "name": "python",
   "nbconvert_exporter": "python",
   "pygments_lexer": "ipython3",
   "version": "3.10.6"
  }
 },
 "nbformat": 4,
 "nbformat_minor": 5
}
